{
 "cells": [
  {
   "cell_type": "markdown",
   "metadata": {},
   "source": [
    "## CSV 1 - CONSUMO ENERGIA\n"
   ]
  },
  {
   "cell_type": "markdown",
   "metadata": {},
   "source": [
    "### VARIÁVEIS CATEGÓRICAS"
   ]
  },
  {
   "cell_type": "markdown",
   "metadata": {},
   "source": [
    "DATA; ENERGIA ELETRICA EM KWH"
   ]
  },
  {
   "cell_type": "code",
   "execution_count": 38,
   "metadata": {},
   "outputs": [],
   "source": [
    "import pandas as pd\n",
    "import numpy as np\n",
    "import matplotlib.pyplot as plt\n",
    "import scipy.stats as stats\n",
    "import pandas as pd\n",
    "from statsmodels.formula.api import ols\n",
    "from statsmodels.stats.anova import anova_lm\n",
    "import seaborn as sns\n",
    "from collections import Counter\n",
    "import plotly.tools as tls\n",
    "import plotly\n",
    "import plotly.offline as py\n",
    "from plotly.offline import init_notebook_mode, iplot, plot\n",
    "import plotly.graph_objs as go\n",
    "\n",
    "sns.set_context('notebook')\n",
    "sns.set_style('darkgrid')\n"
   ]
  },
  {
   "cell_type": "code",
   "execution_count": 4,
   "metadata": {},
   "outputs": [],
   "source": [
    "data = 'ipeadata_consumo_energia.csv'"
   ]
  },
  {
   "cell_type": "code",
   "execution_count": 5,
   "metadata": {},
   "outputs": [],
   "source": [
    "# read the data from a csv file into a pandas dataframe remove the first row and the last column\n",
    "df = pd.read_csv(data, sep=';', skiprows=0)"
   ]
  },
  {
   "cell_type": "code",
   "execution_count": 6,
   "metadata": {},
   "outputs": [
    {
     "name": "stdout",
     "output_type": "stream",
     "text": [
      "True\n"
     ]
    }
   ],
   "source": [
    "print(df.isnull().values.any())"
   ]
  },
  {
   "cell_type": "code",
   "execution_count": 7,
   "metadata": {},
   "outputs": [],
   "source": [
    "data_dia = pd.Series(df['Data'])\n",
    "consumo = pd.Series(df['Energia elétrica - consumo - residência - quantidade - GWh - Eletrobras - ELETRO12_CEERES12'])\n",
    "\n",
    "df = pd.DataFrame({'Data': data_dia, 'Consumo': consumo})\n",
    "\n"
   ]
  },
  {
   "cell_type": "code",
   "execution_count": 8,
   "metadata": {},
   "outputs": [
    {
     "data": {
      "text/html": [
       "<div>\n",
       "<style scoped>\n",
       "    .dataframe tbody tr th:only-of-type {\n",
       "        vertical-align: middle;\n",
       "    }\n",
       "\n",
       "    .dataframe tbody tr th {\n",
       "        vertical-align: top;\n",
       "    }\n",
       "\n",
       "    .dataframe thead th {\n",
       "        text-align: right;\n",
       "    }\n",
       "</style>\n",
       "<table border=\"1\" class=\"dataframe\">\n",
       "  <thead>\n",
       "    <tr style=\"text-align: right;\">\n",
       "      <th></th>\n",
       "      <th>Data</th>\n",
       "      <th>Consumo</th>\n",
       "    </tr>\n",
       "  </thead>\n",
       "  <tbody>\n",
       "    <tr>\n",
       "      <th>0</th>\n",
       "      <td>1976.01</td>\n",
       "      <td>1259,8</td>\n",
       "    </tr>\n",
       "    <tr>\n",
       "      <th>1</th>\n",
       "      <td>1976.02</td>\n",
       "      <td>1161,6</td>\n",
       "    </tr>\n",
       "    <tr>\n",
       "      <th>2</th>\n",
       "      <td>1976.03</td>\n",
       "      <td>1191,6</td>\n",
       "    </tr>\n",
       "    <tr>\n",
       "      <th>3</th>\n",
       "      <td>1976.04</td>\n",
       "      <td>1180,4</td>\n",
       "    </tr>\n",
       "    <tr>\n",
       "      <th>4</th>\n",
       "      <td>1976.05</td>\n",
       "      <td>1205,2</td>\n",
       "    </tr>\n",
       "  </tbody>\n",
       "</table>\n",
       "</div>"
      ],
      "text/plain": [
       "      Data Consumo\n",
       "0  1976.01  1259,8\n",
       "1  1976.02  1161,6\n",
       "2  1976.03  1191,6\n",
       "3  1976.04  1180,4\n",
       "4  1976.05  1205,2"
      ]
     },
     "execution_count": 8,
     "metadata": {},
     "output_type": "execute_result"
    }
   ],
   "source": [
    "df.head()"
   ]
  },
  {
   "cell_type": "code",
   "execution_count": 9,
   "metadata": {},
   "outputs": [],
   "source": [
    "df[\"Data\"] = df[\"Data\"].astype(str)"
   ]
  },
  {
   "cell_type": "code",
   "execution_count": 10,
   "metadata": {},
   "outputs": [],
   "source": [
    "df[['Ano', 'Mes']] = df['Data'].str.split('.', expand=True)\n"
   ]
  },
  {
   "cell_type": "code",
   "execution_count": 11,
   "metadata": {},
   "outputs": [
    {
     "data": {
      "text/plain": [
       "dtype('<M8[ns]')"
      ]
     },
     "execution_count": 11,
     "metadata": {},
     "output_type": "execute_result"
    }
   ],
   "source": [
    "df['AnoMes'] = pd.to_datetime(df['Ano'] + df['Mes'], format='%Y%m')\n",
    "df['AnoMes'].dtype"
   ]
  },
  {
   "cell_type": "code",
   "execution_count": 12,
   "metadata": {},
   "outputs": [],
   "source": [
    "# set the index of the dataframe to be the column 'AnoMes'\n",
    "df.set_index('AnoMes', inplace=True)"
   ]
  },
  {
   "cell_type": "code",
   "execution_count": 13,
   "metadata": {},
   "outputs": [
    {
     "data": {
      "text/html": [
       "<div>\n",
       "<style scoped>\n",
       "    .dataframe tbody tr th:only-of-type {\n",
       "        vertical-align: middle;\n",
       "    }\n",
       "\n",
       "    .dataframe tbody tr th {\n",
       "        vertical-align: top;\n",
       "    }\n",
       "\n",
       "    .dataframe thead th {\n",
       "        text-align: right;\n",
       "    }\n",
       "</style>\n",
       "<table border=\"1\" class=\"dataframe\">\n",
       "  <thead>\n",
       "    <tr style=\"text-align: right;\">\n",
       "      <th></th>\n",
       "      <th>Data</th>\n",
       "      <th>Consumo</th>\n",
       "      <th>Ano</th>\n",
       "      <th>Mes</th>\n",
       "    </tr>\n",
       "    <tr>\n",
       "      <th>AnoMes</th>\n",
       "      <th></th>\n",
       "      <th></th>\n",
       "      <th></th>\n",
       "      <th></th>\n",
       "    </tr>\n",
       "  </thead>\n",
       "  <tbody>\n",
       "    <tr>\n",
       "      <th>1976-01-01</th>\n",
       "      <td>1976.01</td>\n",
       "      <td>1259,8</td>\n",
       "      <td>1976</td>\n",
       "      <td>01</td>\n",
       "    </tr>\n",
       "    <tr>\n",
       "      <th>1976-02-01</th>\n",
       "      <td>1976.02</td>\n",
       "      <td>1161,6</td>\n",
       "      <td>1976</td>\n",
       "      <td>02</td>\n",
       "    </tr>\n",
       "    <tr>\n",
       "      <th>1976-03-01</th>\n",
       "      <td>1976.03</td>\n",
       "      <td>1191,6</td>\n",
       "      <td>1976</td>\n",
       "      <td>03</td>\n",
       "    </tr>\n",
       "    <tr>\n",
       "      <th>1976-04-01</th>\n",
       "      <td>1976.04</td>\n",
       "      <td>1180,4</td>\n",
       "      <td>1976</td>\n",
       "      <td>04</td>\n",
       "    </tr>\n",
       "    <tr>\n",
       "      <th>1976-05-01</th>\n",
       "      <td>1976.05</td>\n",
       "      <td>1205,2</td>\n",
       "      <td>1976</td>\n",
       "      <td>05</td>\n",
       "    </tr>\n",
       "  </tbody>\n",
       "</table>\n",
       "</div>"
      ],
      "text/plain": [
       "               Data Consumo   Ano Mes\n",
       "AnoMes                               \n",
       "1976-01-01  1976.01  1259,8  1976  01\n",
       "1976-02-01  1976.02  1161,6  1976  02\n",
       "1976-03-01  1976.03  1191,6  1976  03\n",
       "1976-04-01  1976.04  1180,4  1976  04\n",
       "1976-05-01  1976.05  1205,2  1976  05"
      ]
     },
     "execution_count": 13,
     "metadata": {},
     "output_type": "execute_result"
    }
   ],
   "source": [
    "df.head()"
   ]
  },
  {
   "cell_type": "code",
   "execution_count": 14,
   "metadata": {},
   "outputs": [],
   "source": [
    "df.drop('Data', axis=1, inplace=True)"
   ]
  },
  {
   "cell_type": "code",
   "execution_count": 15,
   "metadata": {},
   "outputs": [],
   "source": [
    "#create a filter that will convert the , to . and then convert the column to flo\n",
    "df['Consumo'] = df['Consumo'].str.replace(',', '.').astype(float)"
   ]
  },
  {
   "cell_type": "code",
   "execution_count": 16,
   "metadata": {},
   "outputs": [
    {
     "data": {
      "text/plain": [
       "dtype('float64')"
      ]
     },
     "execution_count": 16,
     "metadata": {},
     "output_type": "execute_result"
    }
   ],
   "source": [
    "df['Consumo'].dtype"
   ]
  },
  {
   "cell_type": "code",
   "execution_count": 17,
   "metadata": {},
   "outputs": [],
   "source": [
    "# convert the column anomes to a datetime object\n",
    "df.index = pd.to_datetime(df.index)"
   ]
  },
  {
   "cell_type": "code",
   "execution_count": 18,
   "metadata": {},
   "outputs": [],
   "source": [
    "df['Ano'] = pd.to_numeric(df['Ano'])\n",
    "df['Mes'] = pd.to_numeric(df['Mes'])"
   ]
  },
  {
   "cell_type": "code",
   "execution_count": 19,
   "metadata": {},
   "outputs": [
    {
     "data": {
      "text/plain": [
       "Consumo    float64\n",
       "Ano          int64\n",
       "Mes          int64\n",
       "dtype: object"
      ]
     },
     "execution_count": 19,
     "metadata": {},
     "output_type": "execute_result"
    }
   ],
   "source": [
    "df.dtypes"
   ]
  },
  {
   "cell_type": "code",
   "execution_count": 20,
   "metadata": {},
   "outputs": [
    {
     "name": "stdout",
     "output_type": "stream",
     "text": [
      "6302.118425760286\n"
     ]
    }
   ],
   "source": [
    "print(df[\"Consumo\"].mean())"
   ]
  },
  {
   "cell_type": "code",
   "execution_count": 21,
   "metadata": {},
   "outputs": [
    {
     "data": {
      "image/png": "[encoded data removed]",
      "text/plain": [
       "<Figure size 432x288 with 1 Axes>"
      ]
     },
     "metadata": {
      "needs_background": "light"
     },
     "output_type": "display_data"
    }
   ],
   "source": [
    "sns.scatterplot(x='Ano', y='Consumo', data=df, hue='Consumo', sizes=(20, 200));\n",
    "\n"
   ]
  },
  {
   "cell_type": "code",
   "execution_count": 22,
   "metadata": {},
   "outputs": [
    {
     "data": {
      "text/plain": [
       "<AxesSubplot:ylabel='Frequency'>"
      ]
     },
     "execution_count": 22,
     "metadata": {},
     "output_type": "execute_result"
    },
    {
     "data": {
      "image/png": "[encoded data removed]",
      "text/plain": [
       "<Figure size 432x288 with 1 Axes>"
      ]
     },
     "metadata": {
      "needs_background": "light"
     },
     "output_type": "display_data"
    }
   ],
   "source": [
    "df['Consumo'].plot(kind='hist', bins=20, density=True, alpha=0.5, color='blue')"
   ]
  },
  {
   "cell_type": "code",
   "execution_count": 25,
   "metadata": {},
   "outputs": [
    {
     "data": {
      "image/png": "[encoded data removed]",
      "text/plain": [
       "<Figure size 432x288 with 1 Axes>"
      ]
     },
     "metadata": {
      "needs_background": "light"
     },
     "output_type": "display_data"
    }
   ],
   "source": [
    "sns.boxplot(x=df['Ano']//10 * 10, y='Consumo', data=df);\n"
   ]
  },
  {
   "cell_type": "code",
   "execution_count": 34,
   "metadata": {},
   "outputs": [
    {
     "data": {
      "image/png": "[encoded data removed]",
      "text/plain": [
       "<Figure size 720x360 with 1 Axes>"
      ]
     },
     "metadata": {
      "needs_background": "light"
     },
     "output_type": "display_data"
    }
   ],
   "source": [
    "df.sort_values('Consumo', ascending=False).head(40).plot(kind='bar', x='Ano', y='Consumo', color='blue', figsize=(10, 5));\n"
   ]
  },
  {
   "cell_type": "code",
   "execution_count": 28,
   "metadata": {},
   "outputs": [
    {
     "data": {
      "image/png": "[encoded data removed]",
      "text/plain": [
       "<Figure size 352.8x504 with 1 Axes>"
      ]
     },
     "metadata": {
      "needs_background": "light"
     },
     "output_type": "display_data"
    }
   ],
   "source": [
    "\n",
    "df.nlargest(20, 'Consumo')['Ano']\n",
    "sns.pairplot(df, x_vars=['Ano'], y_vars='Consumo', height=7, aspect=0.7, kind='reg');"
   ]
  },
  {
   "cell_type": "code",
   "execution_count": 36,
   "metadata": {},
   "outputs": [
    {
     "data": {
      "text/plain": [
       "(559, 3)"
      ]
     },
     "execution_count": 36,
     "metadata": {},
     "output_type": "execute_result"
    }
   ],
   "source": [
    "df.shape\n",
    "numero_total = df.shape[0]"
   ]
  },
  {
   "cell_type": "code",
   "execution_count": 47,
   "metadata": {},
   "outputs": [
    {
     "data": {
      "application/vnd.plotly.v1+json": {
       "config": {
        "linkText": "Export to plot.ly",
        "plotlyServerURL": "https://plot.ly",
        "showLink": false
       },
       "data": [
        {
         "autobinx": true,
         "autobiny": true,
         "histnorm": "probability",
         "type": "histogram",
         "x": [
          7.138708257187829,
          7.0575536440705315,
          7.083052220839127,
          7.073608643068784,
          7.094400807256147,
          7.074032138607236,
          7.112327444710911,
          7.080110671464242,
          7.143854541456562,
          7.146693436194988,
          7.1659570461114095,
          7.194812156039999,
          7.228896305177583,
          7.222054939338188,
          7.235042606026277,
          7.242511758819846,
          7.2542485653137305,
          7.212736848511979,
          7.2294763936573405,
          7.225699789560806,
          7.291724326745414,
          7.293969607498164,
          7.313153718201314,
          7.330470740496829,
          7.3154179706337885,
          7.366571562587296,
          7.340640982666294,
          7.328568664037101,
          7.3459456917030055,
          7.336936913707618,
          7.31847323337175,
          7.36353320096389,
          7.394861816127535,
          7.367708572374371,
          7.4124622217399505,
          7.3962125868861195,
          7.445417556701687,
          7.4067107301776405,
          7.459338895220296,
          7.427144133408616,
          7.471363088187097,
          7.4318919168078,
          7.455876687491824,
          7.436617265234227,
          7.500529485395295,
          7.489412083508719,
          7.517520850603031,
          7.532088143541722,
          7.5652752818989315,
          7.5310163320779155,
          7.541683099882111,
          7.5569505720129,
          7.566311014772463,
          7.546446273746024,
          7.544861068658458,
          7.583247524303362,
          7.57353126274595,
          7.569927655242652,
          7.630946580890459,
          7.581719640125308,
          7.738923757439457,
          7.615298339825815,
          7.640123172695364,
          7.587817219993427,
          7.641564441260972,
          7.575071699507561,
          7.604396348796338,
          7.644919344958857,
          7.640603826393634,
          7.6577552711348655,
          7.67275789664251,
          7.652070746116482,
          7.75190533307861,
          7.6255950721324535,
          7.668561108015897,
          7.758760544157663,
          7.679251425953058,
          7.699389406256737,
          7.713784616598755,
          7.71244383427499,
          7.759187438507795,
          7.736307096548285,
          7.77485576666552,
          7.762170607138205,
          7.839131648274333,
          7.789868559054706,
          7.781973234434385,
          7.849323818040561,
          7.786136437783072,
          7.848543482456679,
          7.786136437783072,
          7.784473235736469,
          7.860185057472165,
          7.826842098158293,
          7.824445930877619,
          7.803026643632217,
          7.870547844507712,
          7.873217054862741,
          7.898782356970309,
          7.814399633804487,
          7.843064016692054,
          7.8399193600125825,
          7.818430272070656,
          7.833203948641057,
          7.87777633327726,
          7.818027938530729,
          7.913155185928068,
          7.845807502637805,
          7.920446505142607,
          7.8838232148921525,
          7.879669914604289,
          7.936302693201959,
          7.898039690764619,
          7.884199933676039,
          7.831220214604293,
          7.904703913873747,
          7.925518979786926,
          7.916078096302786,
          7.9748769005588755,
          7.932721027481948,
          8.012349639327795,
          7.984803389734406,
          7.905072849498666,
          7.962067308753666,
          8.001355025826703,
          7.987864096085687,
          7.96693349840484,
          8.018954683155718,
          8.01565761455734,
          8.023879992734878,
          8.069968149059841,
          8.033334015880062,
          8.140315540159985,
          8.057377488557991,
          8.09376775793108,
          8.043342170441608,
          8.078688229229872,
          8.013012110368916,
          8.04044688130311,
          8.076204527239026,
          8.062747901086354,
          8.073091199693154,
          8.083637203141548,
          8.064950891749143,
          8.183397369998433,
          8.11522197256233,
          8.101980731853192,
          8.174702882469461,
          8.08886878916199,
          8.107720061910534,
          8.098946748943339,
          8.061802274538348,
          8.160803920954665,
          8.144098463338524,
          8.121777419161074,
          8.133880887949207,
          8.168486417126681,
          8.19863945529737,
          8.153637486385282,
          8.220672170297252,
          8.176110342237342,
          8.173857454773621,
          8.19118600464279,
          8.169053149927343,
          8.254268770090183,
          8.21716859576607,
          8.244859395911256,
          8.216358332386156,
          8.316300249036848,
          8.259716961021523,
          8.282483003730562,
          8.320448113956559,
          8.27308133366583,
          8.277411998949004,
          8.21959545417708,
          8.261268150577648,
          8.319473692442186,
          8.324821298768782,
          8.364042011922063,
          8.289539484624141,
          8.39502555744203,
          8.352318548226004,
          8.308691916838898,
          8.343791731996841,
          8.35608503102148,
          8.358900612421644,
          8.306472160100585,
          8.364275084991524,
          8.360773272144936,
          8.35983738064003,
          8.39840965542627,
          8.372629740224884,
          8.465268118551318,
          8.39049553837028,
          8.400434630806041,
          8.345455428161928,
          8.391176350832751,
          8.32845106681936,
          8.345930261979017,
          8.355379895253634,
          8.361474616416817,
          8.358666283188,
          8.376320632534823,
          8.339500903005945,
          8.446126742982377,
          8.355144739461839,
          8.38320455141292,
          8.444192298531748,
          8.399984990510696,
          8.383661798791715,
          8.365905077202456,
          8.384347278082808,
          8.420241665339788,
          8.423541635334782,
          8.432724034789787,
          8.414495793177895,
          8.450412157725886,
          8.439015410352214,
          8.420021279663963,
          8.456593569287309,
          8.414274137408396,
          8.437933510430605,
          8.39795910349254,
          8.40200678160712,
          8.479491324232226,
          8.486115235845377,
          8.499232866039245,
          8.47907586930311,
          8.560061091643414,
          8.529516941105069,
          8.580355766373877,
          8.553910774351401,
          8.56216655705897,
          8.533656917446903,
          8.55371796609861,
          8.550821372396221,
          8.613775289262481,
          8.599510233905452,
          8.639587799629844,
          8.617038526385954,
          8.674367865788236,
          8.655562860681009,
          8.67334187390617,
          8.678631537293768,
          8.644002038279933,
          8.63550941823428,
          8.621012520055235,
          8.644530439877432,
          8.660254034256889,
          8.671800909642677,
          8.67214355141406,
          8.659386957119413,
          8.782936356349264,
          8.728426091704613,
          8.698347400458186,
          8.707813551024888,
          8.70930004894499,
          8.710949125835855,
          8.696343057044556,
          8.703672758358856,
          8.724369949208368,
          8.75384509275524,
          8.763740720509464,
          8.753055515138222,
          8.878776071707552,
          8.782322859397507,
          8.8023721336499,
          8.80612448326845,
          8.79346036105272,
          8.736649954872451,
          8.751474487140904,
          8.770749549138642,
          8.806723554725636,
          8.811503250158239,
          8.801168401936692,
          8.81060879571578,
          8.880446450715093,
          8.816556768641856,
          8.830689198760998,
          8.869960510523953,
          8.792853288640693,
          8.801168401936692,
          8.796490207333578,
          8.791941988456118,
          8.823942326585245,
          8.80597465931132,
          8.812099108957337,
          8.824236617346639,
          8.88599431515281,
          8.853808274977197,
          8.867709208039386,
          8.848222068371385,
          8.840724916761715,
          8.81537000096066,
          8.814479000010714,
          8.818630229100354,
          8.851520271691061,
          8.871505346165781,
          8.86120833720818,
          8.85666093701725,
          8.903407519932264,
          8.890961212781146,
          8.912338567117548,
          8.906799883589944,
          8.846209127360996,
          8.685922794690725,
          8.532278828834277,
          8.535229553902337,
          8.564649132572534,
          8.553525120663627,
          8.592486175451668,
          8.58316818033977,
          8.660600654710967,
          8.648747631156539,
          8.668711839055147,
          8.7417757069247,
          8.734721003944811,
          8.700014623251842,
          8.669055540725484,
          8.705331133531631,
          8.703838719690246,
          8.72891172506098,
          8.771680359010377,
          8.761393485256058,
          8.822616945344176,
          8.782322859397507,
          8.797548488481558,
          8.73681053295389,
          8.756839814829462,
          8.726643415598444,
          8.709134991587183,
          8.728264161496178,
          8.715224041915372,
          8.760609847570002,
          8.76170676846664,
          8.765146421639022,
          8.822322177471738,
          8.768418726857403,
          8.794067065151415,
          8.825412915085566,
          8.776012719182917,
          8.746716349694486,
          8.747193183526933,
          8.748939631537715,
          8.795430805040018,
          8.795582216956426,
          8.799510901368867,
          8.80131894766524,
          8.871926251117628,
          8.819813136232225,
          8.835501457409778,
          8.873748128154395,
          8.81269461292015,
          8.821879862683842,
          8.801469470733185,
          8.81060879571578,
          8.842171048611716,
          8.842026529498812,
          8.860499167616016,
          8.86488793377419,
          8.879611609982035,
          8.872346978983032,
          8.945984124827898,
          8.886409166849282,
          8.84404789894249,
          8.848509300888079,
          8.837971491357209,
          8.84505705350085,
          8.871926251117628,
          8.879472402074802,
          8.914491710191342,
          8.904765846682814,
          8.95944014361693,
          8.920255414908091,
          8.945984124827898,
          8.962776046120291,
          8.931948346431495,
          8.883224230278994,
          8.864464055279676,
          8.90231952852887,
          8.915835074176277,
          8.9242570208881,
          8.95789673495042,
          8.938137870372788,
          9.004668301573977,
          8.98281222234415,
          8.948066103458935,
          8.955577146281511,
          8.976135873302548,
          8.938662873666118,
          8.942853006809921,
          8.970177815492379,
          8.96392819372262,
          9.002085433155724,
          9.016512874996026,
          8.979920411691197,
          9.058586816748646,
          9.004176840696656,
          9.046644279305394,
          9.044403844431551,
          9.01042494678118,
          8.975756630519417,
          9.000236434169777,
          9.036225051729327,
          9.038008749211576,
          9.05122740031911,
          9.064852065227576,
          9.090430075303626,
          9.13075589263334,
          9.095153962167066,
          9.121836973384779,
          9.121509158269568,
          9.07211225269274,
          9.068315871946766,
          9.041685005946043,
          9.083869707922235,
          9.094255892955381,
          9.099520536870939,
          9.100860271357362,
          9.137984709784043,
          9.191157552559408,
          9.14899674173513,
          9.159888828480085,
          9.13097243659261,
          9.120196822123217,
          9.090204570736201,
          9.119101891541911,
          9.127067452782361,
          9.161570207606754,
          9.144734614878189,
          9.138092207768558,
          9.157256000883727,
          9.190137664658664,
          9.18039649560311,
          9.237079669165805,
          9.203114326884442,
          9.162409838218633,
          9.170039075202657,
          9.134970064951407,
          9.17118365677499,
          9.184919994629272,
          9.188912424562563,
          9.233959237574817,
          9.223552703448318,
          9.297618380083243,
          9.256555795773146,
          9.245321340871428,
          9.239996256883693,
          9.234154550075438,
          9.219399216464529,
          9.212438170058329,
          9.237858258012922,
          9.235032984566555,
          9.263312256742289,
          9.278933163441794,
          9.278466201023782,
          9.374073563958785,
          9.380589347535867,
          9.329810871952349,
          9.283590833715776,
          9.292473201514705,
          9.24009333012553,
          9.264449697623215,
          9.261318616740812,
          9.263596738276615,
          9.313979406735669,
          9.338821533624722,
          9.320180837655714,
          9.433643910491758,
          9.369819686521504,
          9.317489287493226,
          9.301459965343666,
          9.262932822095353,
          9.219795530746937,
          9.219597393238859,
          9.239607869656751,
          9.251386341412184,
          9.317489287493226,
          9.316050826398296,
          9.311722986264785,
          9.377632889750377,
          9.337149218839878,
          9.334061298965942,
          9.37441309371334,
          9.299449547047958,
          9.26992916338784,
          9.247732491193245,
          9.252249775053393,
          9.295600215927006,
          9.292473201514705,
          9.317758768743452,
          9.337589572891646,
          9.382695764458287,
          9.335209354022052,
          9.40153907670774,
          9.315600882633676,
          9.297618380083243,
          9.282940064390527,
          9.248502833070532,
          9.252920819511301,
          9.311632623458054,
          9.31641063570325,
          9.3425083355536,
          9.340403256274351,
          9.37999875481674,
          9.353487881194667,
          9.37526141408997,
          9.37424334324612,
          9.326254996572539,
          9.298168082341704,
          9.272657678041044,
          9.276970454273945,
          9.306286713023391,
          9.342420712333391,
          9.362116806941977,
          9.351753124926507,
          9.456966047437597,
          9.441690159837492,
          9.420439209769585,
          9.354786976341211,
          9.384629757072872,
          9.294405747093851,
          9.298168082341704,
          9.304559047215164,
          9.338293736286644,
          9.386308454797962,
          9.423595190540022,
          9.407222080101468,
          9.465525078835189,
          9.423029465386534,
          9.429154565129164,
          9.418004736441933,
          9.376617231601282,
          9.340754410698116,
          9.367600498174767,
          9.380251908693456,
          9.412546252075513,
          9.479145388658274,
          9.455323689894849,
          9.495594499353297,
          9.517678002086406,
          9.458449669308141,
          9.488275092973083,
          9.49514330367712,
          9.385721231090805,
          9.388988523403828,
          9.363318936573263,
          9.374158457205578,
          9.441055188786711,
          9.436120444611522,
          9.424322081498007,
          9.479603858903946,
          9.478074806618269,
          9.474625866621567,
          9.541512875502493,
          9.46335335689267,
          9.415971471539095,
          9.386140711779872,
          9.391744841707654
         ]
        }
       ],
       "layout": {
        "barmode": "overlay",
        "template": {
         "data": {
          "bar": [
           {
            "error_x": {
             "color": "#2a3f5f"
            },
            "error_y": {
             "color": "#2a3f5f"
            },
            "marker": {
             "line": {
              "color": "#E5ECF6",
              "width": 0.5
             },
             "pattern": {
              "fillmode": "overlay",
              "size": 10,
              "solidity": 0.2
             }
            },
            "type": "bar"
           }
          ],
          "barpolar": [
           {
            "marker": {
             "line": {
              "color": "#E5ECF6",
              "width": 0.5
             },
             "pattern": {
              "fillmode": "overlay",
              "size": 10,
              "solidity": 0.2
             }
            },
            "type": "barpolar"
           }
          ],
          "carpet": [
           {
            "aaxis": {
             "endlinecolor": "#2a3f5f",
             "gridcolor": "white",
             "linecolor": "white",
             "minorgridcolor": "white",
             "startlinecolor": "#2a3f5f"
            },
            "baxis": {
             "endlinecolor": "#2a3f5f",
             "gridcolor": "white",
             "linecolor": "white",
             "minorgridcolor": "white",
             "startlinecolor": "#2a3f5f"
            },
            "type": "carpet"
           }
          ],
          "choropleth": [
           {
            "colorbar": {
             "outlinewidth": 0,
             "ticks": ""
            },
            "type": "choropleth"
           }
          ],
          "contour": [
           {
            "colorbar": {
             "outlinewidth": 0,
             "ticks": ""
            },
            "colorscale": [
             [
              0,
              "#0d0887"
             ],
             [
              0.1111111111111111,
              "#46039f"
             ],
             [
              0.2222222222222222,
              "#7201a8"
             ],
             [
              0.3333333333333333,
              "#9c179e"
             ],
             [
              0.4444444444444444,
              "#bd3786"
             ],
             [
              0.5555555555555556,
              "#d8576b"
             ],
             [
              0.6666666666666666,
              "#ed7953"
             ],
             [
              0.7777777777777778,
              "#fb9f3a"
             ],
             [
              0.8888888888888888,
              "#fdca26"
             ],
             [
              1,
              "#f0f921"
             ]
            ],
            "type": "contour"
           }
          ],
          "contourcarpet": [
           {
            "colorbar": {
             "outlinewidth": 0,
             "ticks": ""
            },
            "type": "contourcarpet"
           }
          ],
          "heatmap": [
           {
            "colorbar": {
             "outlinewidth": 0,
             "ticks": ""
            },
            "colorscale": [
             [
              0,
              "#0d0887"
             ],
             [
              0.1111111111111111,
              "#46039f"
             ],
             [
              0.2222222222222222,
              "#7201a8"
             ],
             [
              0.3333333333333333,
              "#9c179e"
             ],
             [
              0.4444444444444444,
              "#bd3786"
             ],
             [
              0.5555555555555556,
              "#d8576b"
             ],
             [
              0.6666666666666666,
              "#ed7953"
             ],
             [
              0.7777777777777778,
              "#fb9f3a"
             ],
             [
              0.8888888888888888,
              "#fdca26"
             ],
             [
              1,
              "#f0f921"
             ]
            ],
            "type": "heatmap"
           }
          ],
          "heatmapgl": [
           {
            "colorbar": {
             "outlinewidth": 0,
             "ticks": ""
            },
            "colorscale": [
             [
              0,
              "#0d0887"
             ],
             [
              0.1111111111111111,
              "#46039f"
             ],
             [
              0.2222222222222222,
              "#7201a8"
             ],
             [
              0.3333333333333333,
              "#9c179e"
             ],
             [
              0.4444444444444444,
              "#bd3786"
             ],
             [
              0.5555555555555556,
              "#d8576b"
             ],
             [
              0.6666666666666666,
              "#ed7953"
             ],
             [
              0.7777777777777778,
              "#fb9f3a"
             ],
             [
              0.8888888888888888,
              "#fdca26"
             ],
             [
              1,
              "#f0f921"
             ]
            ],
            "type": "heatmapgl"
           }
          ],
          "histogram": [
           {
            "marker": {
             "pattern": {
              "fillmode": "overlay",
              "size": 10,
              "solidity": 0.2
             }
            },
            "type": "histogram"
           }
          ],
          "histogram2d": [
           {
            "colorbar": {
             "outlinewidth": 0,
             "ticks": ""
            },
            "colorscale": [
             [
              0,
              "#0d0887"
             ],
             [
              0.1111111111111111,
              "#46039f"
             ],
             [
              0.2222222222222222,
              "#7201a8"
             ],
             [
              0.3333333333333333,
              "#9c179e"
             ],
             [
              0.4444444444444444,
              "#bd3786"
             ],
             [
              0.5555555555555556,
              "#d8576b"
             ],
             [
              0.6666666666666666,
              "#ed7953"
             ],
             [
              0.7777777777777778,
              "#fb9f3a"
             ],
             [
              0.8888888888888888,
              "#fdca26"
             ],
             [
              1,
              "#f0f921"
             ]
            ],
            "type": "histogram2d"
           }
          ],
          "histogram2dcontour": [
           {
            "colorbar": {
             "outlinewidth": 0,
             "ticks": ""
            },
            "colorscale": [
             [
              0,
              "#0d0887"
             ],
             [
              0.1111111111111111,
              "#46039f"
             ],
             [
              0.2222222222222222,
              "#7201a8"
             ],
             [
              0.3333333333333333,
              "#9c179e"
             ],
             [
              0.4444444444444444,
              "#bd3786"
             ],
             [
              0.5555555555555556,
              "#d8576b"
             ],
             [
              0.6666666666666666,
              "#ed7953"
             ],
             [
              0.7777777777777778,
              "#fb9f3a"
             ],
             [
              0.8888888888888888,
              "#fdca26"
             ],
             [
              1,
              "#f0f921"
             ]
            ],
            "type": "histogram2dcontour"
           }
          ],
          "mesh3d": [
           {
            "colorbar": {
             "outlinewidth": 0,
             "ticks": ""
            },
            "type": "mesh3d"
           }
          ],
          "parcoords": [
           {
            "line": {
             "colorbar": {
              "outlinewidth": 0,
              "ticks": ""
             }
            },
            "type": "parcoords"
           }
          ],
          "pie": [
           {
            "automargin": true,
            "type": "pie"
           }
          ],
          "scatter": [
           {
            "fillpattern": {
             "fillmode": "overlay",
             "size": 10,
             "solidity": 0.2
            },
            "type": "scatter"
           }
          ],
          "scatter3d": [
           {
            "line": {
             "colorbar": {
              "outlinewidth": 0,
              "ticks": ""
             }
            },
            "marker": {
             "colorbar": {
              "outlinewidth": 0,
              "ticks": ""
             }
            },
            "type": "scatter3d"
           }
          ],
          "scattercarpet": [
           {
            "marker": {
             "colorbar": {
              "outlinewidth": 0,
              "ticks": ""
             }
            },
            "type": "scattercarpet"
           }
          ],
          "scattergeo": [
           {
            "marker": {
             "colorbar": {
              "outlinewidth": 0,
              "ticks": ""
             }
            },
            "type": "scattergeo"
           }
          ],
          "scattergl": [
           {
            "marker": {
             "colorbar": {
              "outlinewidth": 0,
              "ticks": ""
             }
            },
            "type": "scattergl"
           }
          ],
          "scattermapbox": [
           {
            "marker": {
             "colorbar": {
              "outlinewidth": 0,
              "ticks": ""
             }
            },
            "type": "scattermapbox"
           }
          ],
          "scatterpolar": [
           {
            "marker": {
             "colorbar": {
              "outlinewidth": 0,
              "ticks": ""
             }
            },
            "type": "scatterpolar"
           }
          ],
          "scatterpolargl": [
           {
            "marker": {
             "colorbar": {
              "outlinewidth": 0,
              "ticks": ""
             }
            },
            "type": "scatterpolargl"
           }
          ],
          "scatterternary": [
           {
            "marker": {
             "colorbar": {
              "outlinewidth": 0,
              "ticks": ""
             }
            },
            "type": "scatterternary"
           }
          ],
          "surface": [
           {
            "colorbar": {
             "outlinewidth": 0,
             "ticks": ""
            },
            "colorscale": [
             [
              0,
              "#0d0887"
             ],
             [
              0.1111111111111111,
              "#46039f"
             ],
             [
              0.2222222222222222,
              "#7201a8"
             ],
             [
              0.3333333333333333,
              "#9c179e"
             ],
             [
              0.4444444444444444,
              "#bd3786"
             ],
             [
              0.5555555555555556,
              "#d8576b"
             ],
             [
              0.6666666666666666,
              "#ed7953"
             ],
             [
              0.7777777777777778,
              "#fb9f3a"
             ],
             [
              0.8888888888888888,
              "#fdca26"
             ],
             [
              1,
              "#f0f921"
             ]
            ],
            "type": "surface"
           }
          ],
          "table": [
           {
            "cells": {
             "fill": {
              "color": "#EBF0F8"
             },
             "line": {
              "color": "white"
             }
            },
            "header": {
             "fill": {
              "color": "#C8D4E3"
             },
             "line": {
              "color": "white"
             }
            },
            "type": "table"
           }
          ]
         },
         "layout": {
          "annotationdefaults": {
           "arrowcolor": "#2a3f5f",
           "arrowhead": 0,
           "arrowwidth": 1
          },
          "autotypenumbers": "strict",
          "coloraxis": {
           "colorbar": {
            "outlinewidth": 0,
            "ticks": ""
           }
          },
          "colorscale": {
           "diverging": [
            [
             0,
             "#8e0152"
            ],
            [
             0.1,
             "#c51b7d"
            ],
            [
             0.2,
             "#de77ae"
            ],
            [
             0.3,
             "#f1b6da"
            ],
            [
             0.4,
             "#fde0ef"
            ],
            [
             0.5,
             "#f7f7f7"
            ],
            [
             0.6,
             "#e6f5d0"
            ],
            [
             0.7,
             "#b8e186"
            ],
            [
             0.8,
             "#7fbc41"
            ],
            [
             0.9,
             "#4d9221"
            ],
            [
             1,
             "#276419"
            ]
           ],
           "sequential": [
            [
             0,
             "#0d0887"
            ],
            [
             0.1111111111111111,
             "#46039f"
            ],
            [
             0.2222222222222222,
             "#7201a8"
            ],
            [
             0.3333333333333333,
             "#9c179e"
            ],
            [
             0.4444444444444444,
             "#bd3786"
            ],
            [
             0.5555555555555556,
             "#d8576b"
            ],
            [
             0.6666666666666666,
             "#ed7953"
            ],
            [
             0.7777777777777778,
             "#fb9f3a"
            ],
            [
             0.8888888888888888,
             "#fdca26"
            ],
            [
             1,
             "#f0f921"
            ]
           ],
           "sequentialminus": [
            [
             0,
             "#0d0887"
            ],
            [
             0.1111111111111111,
             "#46039f"
            ],
            [
             0.2222222222222222,
             "#7201a8"
            ],
            [
             0.3333333333333333,
             "#9c179e"
            ],
            [
             0.4444444444444444,
             "#bd3786"
            ],
            [
             0.5555555555555556,
             "#d8576b"
            ],
            [
             0.6666666666666666,
             "#ed7953"
            ],
            [
             0.7777777777777778,
             "#fb9f3a"
            ],
            [
             0.8888888888888888,
             "#fdca26"
            ],
            [
             1,
             "#f0f921"
            ]
           ]
          },
          "colorway": [
           "#636efa",
           "#EF553B",
           "#00cc96",
           "#ab63fa",
           "#FFA15A",
           "#19d3f3",
           "#FF6692",
           "#B6E880",
           "#FF97FF",
           "#FECB52"
          ],
          "font": {
           "color": "#2a3f5f"
          },
          "geo": {
           "bgcolor": "white",
           "lakecolor": "white",
           "landcolor": "#E5ECF6",
           "showlakes": true,
           "showland": true,
           "subunitcolor": "white"
          },
          "hoverlabel": {
           "align": "left"
          },
          "hovermode": "closest",
          "mapbox": {
           "style": "light"
          },
          "paper_bgcolor": "white",
          "plot_bgcolor": "#E5ECF6",
          "polar": {
           "angularaxis": {
            "gridcolor": "white",
            "linecolor": "white",
            "ticks": ""
           },
           "bgcolor": "#E5ECF6",
           "radialaxis": {
            "gridcolor": "white",
            "linecolor": "white",
            "ticks": ""
           }
          },
          "scene": {
           "xaxis": {
            "backgroundcolor": "#E5ECF6",
            "gridcolor": "white",
            "gridwidth": 2,
            "linecolor": "white",
            "showbackground": true,
            "ticks": "",
            "zerolinecolor": "white"
           },
           "yaxis": {
            "backgroundcolor": "#E5ECF6",
            "gridcolor": "white",
            "gridwidth": 2,
            "linecolor": "white",
            "showbackground": true,
            "ticks": "",
            "zerolinecolor": "white"
           },
           "zaxis": {
            "backgroundcolor": "#E5ECF6",
            "gridcolor": "white",
            "gridwidth": 2,
            "linecolor": "white",
            "showbackground": true,
            "ticks": "",
            "zerolinecolor": "white"
           }
          },
          "shapedefaults": {
           "line": {
            "color": "#2a3f5f"
           }
          },
          "ternary": {
           "aaxis": {
            "gridcolor": "white",
            "linecolor": "white",
            "ticks": ""
           },
           "baxis": {
            "gridcolor": "white",
            "linecolor": "white",
            "ticks": ""
           },
           "bgcolor": "#E5ECF6",
           "caxis": {
            "gridcolor": "white",
            "linecolor": "white",
            "ticks": ""
           }
          },
          "title": {
           "x": 0.05
          },
          "xaxis": {
           "automargin": true,
           "gridcolor": "white",
           "linecolor": "white",
           "ticks": "",
           "title": {
            "standoff": 15
           },
           "zerolinecolor": "white",
           "zerolinewidth": 2
          },
          "yaxis": {
           "automargin": true,
           "gridcolor": "white",
           "linecolor": "white",
           "ticks": "",
           "title": {
            "standoff": 15
           },
           "zerolinecolor": "white",
           "zerolinewidth": 2
          }
         }
        }
       }
      }
     },
     "metadata": {},
     "output_type": "display_data"
    }
   ],
   "source": [
    "trace0 = go.Histogram(\n",
    "    x= np.log(df.Consumo),\n",
    "    histnorm='probability',\n",
    "    autobinx= True,\n",
    "    autobiny=True)\n",
    "\n",
    "data = [trace0]\n",
    "layout = go.Layout(barmode='overlay')\n",
    "fig = go.Figure(data=data, layout=layout)\n",
    "iplot(fig)"
   ]
  },
  {
   "cell_type": "code",
   "execution_count": 48,
   "metadata": {},
   "outputs": [
    {
     "data": {
      "text/html": [
       "<div>\n",
       "<style scoped>\n",
       "    .dataframe tbody tr th:only-of-type {\n",
       "        vertical-align: middle;\n",
       "    }\n",
       "\n",
       "    .dataframe tbody tr th {\n",
       "        vertical-align: top;\n",
       "    }\n",
       "\n",
       "    .dataframe thead th {\n",
       "        text-align: right;\n",
       "    }\n",
       "</style>\n",
       "<table border=\"1\" class=\"dataframe\">\n",
       "  <thead>\n",
       "    <tr style=\"text-align: right;\">\n",
       "      <th></th>\n",
       "      <th>Consumo</th>\n",
       "      <th>Ano</th>\n",
       "      <th>Mes</th>\n",
       "    </tr>\n",
       "  </thead>\n",
       "  <tbody>\n",
       "    <tr>\n",
       "      <th>count</th>\n",
       "      <td>559.000000</td>\n",
       "      <td>559.000000</td>\n",
       "      <td>559.000000</td>\n",
       "    </tr>\n",
       "    <tr>\n",
       "      <th>mean</th>\n",
       "      <td>6302.118426</td>\n",
       "      <td>1998.794275</td>\n",
       "      <td>5.728086</td>\n",
       "    </tr>\n",
       "    <tr>\n",
       "      <th>std</th>\n",
       "      <td>3440.100069</td>\n",
       "      <td>13.460905</td>\n",
       "      <td>3.578277</td>\n",
       "    </tr>\n",
       "    <tr>\n",
       "      <th>min</th>\n",
       "      <td>1161.600000</td>\n",
       "      <td>1976.000000</td>\n",
       "      <td>1.000000</td>\n",
       "    </tr>\n",
       "    <tr>\n",
       "      <th>25%</th>\n",
       "      <td>3212.000000</td>\n",
       "      <td>1987.000000</td>\n",
       "      <td>2.500000</td>\n",
       "    </tr>\n",
       "    <tr>\n",
       "      <th>50%</th>\n",
       "      <td>6215.000000</td>\n",
       "      <td>1999.000000</td>\n",
       "      <td>5.000000</td>\n",
       "    </tr>\n",
       "    <tr>\n",
       "      <th>75%</th>\n",
       "      <td>9144.000000</td>\n",
       "      <td>2010.000000</td>\n",
       "      <td>8.000000</td>\n",
       "    </tr>\n",
       "    <tr>\n",
       "      <th>max</th>\n",
       "      <td>13926.000000</td>\n",
       "      <td>2022.000000</td>\n",
       "      <td>12.000000</td>\n",
       "    </tr>\n",
       "  </tbody>\n",
       "</table>\n",
       "</div>"
      ],
      "text/plain": [
       "            Consumo          Ano         Mes\n",
       "count    559.000000   559.000000  559.000000\n",
       "mean    6302.118426  1998.794275    5.728086\n",
       "std     3440.100069    13.460905    3.578277\n",
       "min     1161.600000  1976.000000    1.000000\n",
       "25%     3212.000000  1987.000000    2.500000\n",
       "50%     6215.000000  1999.000000    5.000000\n",
       "75%     9144.000000  2010.000000    8.000000\n",
       "max    13926.000000  2022.000000   12.000000"
      ]
     },
     "execution_count": 48,
     "metadata": {},
     "output_type": "execute_result"
    }
   ],
   "source": [
    "df.describe()"
   ]
  },
  {
   "cell_type": "code",
   "execution_count": 46,
   "metadata": {},
   "outputs": [
    {
     "name": "stdout",
     "output_type": "stream",
     "text": [
      "Shapiro stat: 0.943160355091095\n",
      "P-value:  6.554496528865528e-13\n",
      "Non-Normal Distribution\n"
     ]
    }
   ],
   "source": [
    "stat, p = stats.shapiro(np.log(df['Consumo']+1).sample(500, random_state=42))\n",
    "\n",
    "print(\"Shapiro stat:\", stat)\n",
    "print(\"P-value: \", p)\n",
    "\n",
    "if p >= .01:\n",
    "    print('Normal Distribution')\n",
    "else:\n",
    "    print(\"Non-Normal Distribution\")"
   ]
  },
  {
   "cell_type": "code",
   "execution_count": null,
   "metadata": {},
   "outputs": [],
   "source": []
  }
 ],
 "metadata": {
  "kernelspec": {
   "display_name": "Python 3.9.12 ('base')",
   "language": "python",
   "name": "python3"
  },
  "language_info": {
   "codemirror_mode": {
    "name": "ipython",
    "version": 3
   },
   "file_extension": ".py",
   "mimetype": "text/x-python",
   "name": "python",
   "nbconvert_exporter": "python",
   "pygments_lexer": "ipython3",
   "version": "3.9.12"
  },
  "orig_nbformat": 4,
  "vscode": {
   "interpreter": {
    "hash": "d8f232851a501dc2191bb7f3ec9b6d8441ebf249756102a751ba701be958727c"
   }
  }
 },
 "nbformat": 4,
 "nbformat_minor": 2
}
